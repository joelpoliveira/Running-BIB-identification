{
 "cells": [
  {
   "cell_type": "code",
   "execution_count": 1,
   "id": "1569f31c",
   "metadata": {},
   "outputs": [],
   "source": [
    "from ultralytics import YOLO"
   ]
  },
  {
   "cell_type": "code",
   "execution_count": 2,
   "id": "07eda034",
   "metadata": {},
   "outputs": [
    {
     "name": "stdout",
     "output_type": "stream",
     "text": [
      "Downloading https://github.com/ultralytics/assets/releases/download/v8.3.0/yolov8n.pt to 'yolov8n.pt'...\n"
     ]
    },
    {
     "name": "stderr",
     "output_type": "stream",
     "text": [
      "100%|██████████| 6.25M/6.25M [00:03<00:00, 1.87MB/s]\n"
     ]
    }
   ],
   "source": [
    "# Load the model\n",
    "bib_id = YOLO(\"yolov8n.pt\") # n | nano, s | small..."
   ]
  },
  {
   "cell_type": "code",
   "execution_count": null,
   "id": "ba82cf8e",
   "metadata": {},
   "outputs": [],
   "source": [
    "DATA_PATH = \"../datasets/runners-bib/data.yaml\""
   ]
  },
  {
   "cell_type": "code",
   "execution_count": null,
   "id": "2927e237",
   "metadata": {},
   "outputs": [],
   "source": [
    "results=bib_id.train(\n",
    "    data=DATA_PATH,\n",
    "    epochs=100,\n",
    "    batch=16,\n",
    "    name=\"01_runners-bib\",\n",
    "    imgsz=640,\n",
    "    device=0,\n",
    "    save=True,\n",
    "    save_period=-1,\n",
    ")"
   ]
  }
 ],
 "metadata": {
  "kernelspec": {
   "display_name": "computer-vision",
   "language": "python",
   "name": "computer-vision"
  },
  "language_info": {
   "codemirror_mode": {
    "name": "ipython",
    "version": 3
   },
   "file_extension": ".py",
   "mimetype": "text/x-python",
   "name": "python",
   "nbconvert_exporter": "python",
   "pygments_lexer": "ipython3",
   "version": "3.12.8"
  }
 },
 "nbformat": 4,
 "nbformat_minor": 5
}
